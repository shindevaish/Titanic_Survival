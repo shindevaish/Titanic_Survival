{
 "cells": [
  {
   "cell_type": "code",
   "execution_count": 1,
   "id": "61fc41ca",
   "metadata": {},
   "outputs": [],
   "source": [
    "import pandas as pd\n",
    "import numpy as np\n",
    "from sklearn.preprocessing import StandardScaler\n",
    "from sklearn.metrics import accuracy_score, classification_report, confusion_matrix, precision_score, recall_score, f1_score\n",
    "from sklearn.svm import SVC\n",
    "from sklearn.linear_model import LogisticRegression\n",
    "from sklearn.ensemble import RandomForestClassifier, AdaBoostClassifier\n",
    "from sklearn.naive_bayes import GaussianNB\n",
    "from sklearn.tree import DecisionTreeClassifier\n",
    "from sklearn.neighbors import KNeighborsClassifier"
   ]
  },
  {
   "cell_type": "code",
   "execution_count": 2,
   "id": "28fa7f38",
   "metadata": {},
   "outputs": [],
   "source": [
    "train = pd.read_csv(\"data/cleaned_train.csv\")\n",
    "test = pd.read_csv('data/cleaned_test.csv')"
   ]
  },
  {
   "cell_type": "code",
   "execution_count": 3,
   "id": "1a3394c6",
   "metadata": {},
   "outputs": [
    {
     "data": {
      "text/html": [
       "<div>\n",
       "<style scoped>\n",
       "    .dataframe tbody tr th:only-of-type {\n",
       "        vertical-align: middle;\n",
       "    }\n",
       "\n",
       "    .dataframe tbody tr th {\n",
       "        vertical-align: top;\n",
       "    }\n",
       "\n",
       "    .dataframe thead th {\n",
       "        text-align: right;\n",
       "    }\n",
       "</style>\n",
       "<table border=\"1\" class=\"dataframe\">\n",
       "  <thead>\n",
       "    <tr style=\"text-align: right;\">\n",
       "      <th></th>\n",
       "      <th>PassengerId</th>\n",
       "      <th>Survived</th>\n",
       "      <th>Pclass</th>\n",
       "      <th>Sex</th>\n",
       "      <th>Age</th>\n",
       "      <th>SibSp</th>\n",
       "      <th>Parch</th>\n",
       "      <th>Fare</th>\n",
       "      <th>Embarked</th>\n",
       "    </tr>\n",
       "  </thead>\n",
       "  <tbody>\n",
       "    <tr>\n",
       "      <th>0</th>\n",
       "      <td>1</td>\n",
       "      <td>0</td>\n",
       "      <td>3</td>\n",
       "      <td>0</td>\n",
       "      <td>22.0</td>\n",
       "      <td>1</td>\n",
       "      <td>0</td>\n",
       "      <td>7.2500</td>\n",
       "      <td>0</td>\n",
       "    </tr>\n",
       "    <tr>\n",
       "      <th>1</th>\n",
       "      <td>2</td>\n",
       "      <td>1</td>\n",
       "      <td>1</td>\n",
       "      <td>1</td>\n",
       "      <td>38.0</td>\n",
       "      <td>1</td>\n",
       "      <td>0</td>\n",
       "      <td>71.2833</td>\n",
       "      <td>1</td>\n",
       "    </tr>\n",
       "    <tr>\n",
       "      <th>2</th>\n",
       "      <td>3</td>\n",
       "      <td>1</td>\n",
       "      <td>3</td>\n",
       "      <td>1</td>\n",
       "      <td>26.0</td>\n",
       "      <td>0</td>\n",
       "      <td>0</td>\n",
       "      <td>7.9250</td>\n",
       "      <td>0</td>\n",
       "    </tr>\n",
       "    <tr>\n",
       "      <th>3</th>\n",
       "      <td>4</td>\n",
       "      <td>1</td>\n",
       "      <td>1</td>\n",
       "      <td>1</td>\n",
       "      <td>35.0</td>\n",
       "      <td>1</td>\n",
       "      <td>0</td>\n",
       "      <td>53.1000</td>\n",
       "      <td>0</td>\n",
       "    </tr>\n",
       "    <tr>\n",
       "      <th>4</th>\n",
       "      <td>5</td>\n",
       "      <td>0</td>\n",
       "      <td>3</td>\n",
       "      <td>0</td>\n",
       "      <td>35.0</td>\n",
       "      <td>0</td>\n",
       "      <td>0</td>\n",
       "      <td>8.0500</td>\n",
       "      <td>0</td>\n",
       "    </tr>\n",
       "  </tbody>\n",
       "</table>\n",
       "</div>"
      ],
      "text/plain": [
       "   PassengerId  Survived  Pclass  Sex   Age  SibSp  Parch     Fare  Embarked\n",
       "0            1         0       3    0  22.0      1      0   7.2500         0\n",
       "1            2         1       1    1  38.0      1      0  71.2833         1\n",
       "2            3         1       3    1  26.0      0      0   7.9250         0\n",
       "3            4         1       1    1  35.0      1      0  53.1000         0\n",
       "4            5         0       3    0  35.0      0      0   8.0500         0"
      ]
     },
     "execution_count": 3,
     "metadata": {},
     "output_type": "execute_result"
    }
   ],
   "source": [
    "train.head()"
   ]
  },
  {
   "cell_type": "code",
   "execution_count": 4,
   "id": "0c284e11",
   "metadata": {},
   "outputs": [
    {
     "data": {
      "text/html": [
       "<div>\n",
       "<style scoped>\n",
       "    .dataframe tbody tr th:only-of-type {\n",
       "        vertical-align: middle;\n",
       "    }\n",
       "\n",
       "    .dataframe tbody tr th {\n",
       "        vertical-align: top;\n",
       "    }\n",
       "\n",
       "    .dataframe thead th {\n",
       "        text-align: right;\n",
       "    }\n",
       "</style>\n",
       "<table border=\"1\" class=\"dataframe\">\n",
       "  <thead>\n",
       "    <tr style=\"text-align: right;\">\n",
       "      <th></th>\n",
       "      <th>PassengerId</th>\n",
       "      <th>Pclass</th>\n",
       "      <th>Sex</th>\n",
       "      <th>Age</th>\n",
       "      <th>SibSp</th>\n",
       "      <th>Parch</th>\n",
       "      <th>Fare</th>\n",
       "      <th>Embarked</th>\n",
       "    </tr>\n",
       "  </thead>\n",
       "  <tbody>\n",
       "    <tr>\n",
       "      <th>0</th>\n",
       "      <td>892</td>\n",
       "      <td>3</td>\n",
       "      <td>0</td>\n",
       "      <td>34.5</td>\n",
       "      <td>0</td>\n",
       "      <td>0</td>\n",
       "      <td>7.8292</td>\n",
       "      <td>2</td>\n",
       "    </tr>\n",
       "    <tr>\n",
       "      <th>1</th>\n",
       "      <td>893</td>\n",
       "      <td>3</td>\n",
       "      <td>1</td>\n",
       "      <td>47.0</td>\n",
       "      <td>1</td>\n",
       "      <td>0</td>\n",
       "      <td>7.0000</td>\n",
       "      <td>0</td>\n",
       "    </tr>\n",
       "    <tr>\n",
       "      <th>2</th>\n",
       "      <td>894</td>\n",
       "      <td>2</td>\n",
       "      <td>0</td>\n",
       "      <td>62.0</td>\n",
       "      <td>0</td>\n",
       "      <td>0</td>\n",
       "      <td>9.6875</td>\n",
       "      <td>2</td>\n",
       "    </tr>\n",
       "    <tr>\n",
       "      <th>3</th>\n",
       "      <td>895</td>\n",
       "      <td>3</td>\n",
       "      <td>0</td>\n",
       "      <td>27.0</td>\n",
       "      <td>0</td>\n",
       "      <td>0</td>\n",
       "      <td>8.6625</td>\n",
       "      <td>0</td>\n",
       "    </tr>\n",
       "    <tr>\n",
       "      <th>4</th>\n",
       "      <td>896</td>\n",
       "      <td>3</td>\n",
       "      <td>1</td>\n",
       "      <td>22.0</td>\n",
       "      <td>1</td>\n",
       "      <td>1</td>\n",
       "      <td>12.2875</td>\n",
       "      <td>0</td>\n",
       "    </tr>\n",
       "  </tbody>\n",
       "</table>\n",
       "</div>"
      ],
      "text/plain": [
       "   PassengerId  Pclass  Sex   Age  SibSp  Parch     Fare  Embarked\n",
       "0          892       3    0  34.5      0      0   7.8292         2\n",
       "1          893       3    1  47.0      1      0   7.0000         0\n",
       "2          894       2    0  62.0      0      0   9.6875         2\n",
       "3          895       3    0  27.0      0      0   8.6625         0\n",
       "4          896       3    1  22.0      1      1  12.2875         0"
      ]
     },
     "execution_count": 4,
     "metadata": {},
     "output_type": "execute_result"
    }
   ],
   "source": [
    "test.head()"
   ]
  },
  {
   "cell_type": "code",
   "execution_count": 5,
   "id": "b0e6b845",
   "metadata": {},
   "outputs": [],
   "source": [
    "X_train = train.drop('Survived', axis=1)\n",
    "y_train = train['Survived']\n",
    "X_test = test.copy()"
   ]
  },
  {
   "cell_type": "code",
   "execution_count": 6,
   "id": "83442ebb",
   "metadata": {},
   "outputs": [
    {
     "data": {
      "text/plain": [
       "((891, 8), (891,), (418, 8))"
      ]
     },
     "execution_count": 6,
     "metadata": {},
     "output_type": "execute_result"
    }
   ],
   "source": [
    "X_train.shape, y_train.shape, X_test.shape"
   ]
  },
  {
   "cell_type": "code",
   "execution_count": 7,
   "id": "0030cc59",
   "metadata": {},
   "outputs": [
    {
     "data": {
      "text/html": [
       "<div>\n",
       "<style scoped>\n",
       "    .dataframe tbody tr th:only-of-type {\n",
       "        vertical-align: middle;\n",
       "    }\n",
       "\n",
       "    .dataframe tbody tr th {\n",
       "        vertical-align: top;\n",
       "    }\n",
       "\n",
       "    .dataframe thead th {\n",
       "        text-align: right;\n",
       "    }\n",
       "</style>\n",
       "<table border=\"1\" class=\"dataframe\">\n",
       "  <thead>\n",
       "    <tr style=\"text-align: right;\">\n",
       "      <th></th>\n",
       "      <th>PassengerId</th>\n",
       "      <th>Pclass</th>\n",
       "      <th>Sex</th>\n",
       "      <th>Age</th>\n",
       "      <th>SibSp</th>\n",
       "      <th>Parch</th>\n",
       "      <th>Fare</th>\n",
       "      <th>Embarked</th>\n",
       "    </tr>\n",
       "  </thead>\n",
       "  <tbody>\n",
       "    <tr>\n",
       "      <th>0</th>\n",
       "      <td>1</td>\n",
       "      <td>3</td>\n",
       "      <td>0</td>\n",
       "      <td>22.0</td>\n",
       "      <td>1</td>\n",
       "      <td>0</td>\n",
       "      <td>7.2500</td>\n",
       "      <td>0</td>\n",
       "    </tr>\n",
       "    <tr>\n",
       "      <th>1</th>\n",
       "      <td>2</td>\n",
       "      <td>1</td>\n",
       "      <td>1</td>\n",
       "      <td>38.0</td>\n",
       "      <td>1</td>\n",
       "      <td>0</td>\n",
       "      <td>71.2833</td>\n",
       "      <td>1</td>\n",
       "    </tr>\n",
       "    <tr>\n",
       "      <th>2</th>\n",
       "      <td>3</td>\n",
       "      <td>3</td>\n",
       "      <td>1</td>\n",
       "      <td>26.0</td>\n",
       "      <td>0</td>\n",
       "      <td>0</td>\n",
       "      <td>7.9250</td>\n",
       "      <td>0</td>\n",
       "    </tr>\n",
       "    <tr>\n",
       "      <th>3</th>\n",
       "      <td>4</td>\n",
       "      <td>1</td>\n",
       "      <td>1</td>\n",
       "      <td>35.0</td>\n",
       "      <td>1</td>\n",
       "      <td>0</td>\n",
       "      <td>53.1000</td>\n",
       "      <td>0</td>\n",
       "    </tr>\n",
       "    <tr>\n",
       "      <th>4</th>\n",
       "      <td>5</td>\n",
       "      <td>3</td>\n",
       "      <td>0</td>\n",
       "      <td>35.0</td>\n",
       "      <td>0</td>\n",
       "      <td>0</td>\n",
       "      <td>8.0500</td>\n",
       "      <td>0</td>\n",
       "    </tr>\n",
       "    <tr>\n",
       "      <th>...</th>\n",
       "      <td>...</td>\n",
       "      <td>...</td>\n",
       "      <td>...</td>\n",
       "      <td>...</td>\n",
       "      <td>...</td>\n",
       "      <td>...</td>\n",
       "      <td>...</td>\n",
       "      <td>...</td>\n",
       "    </tr>\n",
       "    <tr>\n",
       "      <th>886</th>\n",
       "      <td>887</td>\n",
       "      <td>2</td>\n",
       "      <td>0</td>\n",
       "      <td>27.0</td>\n",
       "      <td>0</td>\n",
       "      <td>0</td>\n",
       "      <td>13.0000</td>\n",
       "      <td>0</td>\n",
       "    </tr>\n",
       "    <tr>\n",
       "      <th>887</th>\n",
       "      <td>888</td>\n",
       "      <td>1</td>\n",
       "      <td>1</td>\n",
       "      <td>19.0</td>\n",
       "      <td>0</td>\n",
       "      <td>0</td>\n",
       "      <td>30.0000</td>\n",
       "      <td>0</td>\n",
       "    </tr>\n",
       "    <tr>\n",
       "      <th>888</th>\n",
       "      <td>889</td>\n",
       "      <td>3</td>\n",
       "      <td>1</td>\n",
       "      <td>28.0</td>\n",
       "      <td>1</td>\n",
       "      <td>2</td>\n",
       "      <td>23.4500</td>\n",
       "      <td>0</td>\n",
       "    </tr>\n",
       "    <tr>\n",
       "      <th>889</th>\n",
       "      <td>890</td>\n",
       "      <td>1</td>\n",
       "      <td>0</td>\n",
       "      <td>26.0</td>\n",
       "      <td>0</td>\n",
       "      <td>0</td>\n",
       "      <td>30.0000</td>\n",
       "      <td>1</td>\n",
       "    </tr>\n",
       "    <tr>\n",
       "      <th>890</th>\n",
       "      <td>891</td>\n",
       "      <td>3</td>\n",
       "      <td>0</td>\n",
       "      <td>32.0</td>\n",
       "      <td>0</td>\n",
       "      <td>0</td>\n",
       "      <td>7.7500</td>\n",
       "      <td>2</td>\n",
       "    </tr>\n",
       "  </tbody>\n",
       "</table>\n",
       "<p>891 rows × 8 columns</p>\n",
       "</div>"
      ],
      "text/plain": [
       "     PassengerId  Pclass  Sex   Age  SibSp  Parch     Fare  Embarked\n",
       "0              1       3    0  22.0      1      0   7.2500         0\n",
       "1              2       1    1  38.0      1      0  71.2833         1\n",
       "2              3       3    1  26.0      0      0   7.9250         0\n",
       "3              4       1    1  35.0      1      0  53.1000         0\n",
       "4              5       3    0  35.0      0      0   8.0500         0\n",
       "..           ...     ...  ...   ...    ...    ...      ...       ...\n",
       "886          887       2    0  27.0      0      0  13.0000         0\n",
       "887          888       1    1  19.0      0      0  30.0000         0\n",
       "888          889       3    1  28.0      1      2  23.4500         0\n",
       "889          890       1    0  26.0      0      0  30.0000         1\n",
       "890          891       3    0  32.0      0      0   7.7500         2\n",
       "\n",
       "[891 rows x 8 columns]"
      ]
     },
     "execution_count": 7,
     "metadata": {},
     "output_type": "execute_result"
    }
   ],
   "source": [
    "X_train"
   ]
  },
  {
   "cell_type": "code",
   "execution_count": 8,
   "id": "5b7fd05e",
   "metadata": {},
   "outputs": [],
   "source": [
    "result = pd.read_csv('data/gender_submission.csv')\n",
    "y_true = result['Survived']"
   ]
  },
  {
   "cell_type": "code",
   "execution_count": 9,
   "id": "e96ef4f6",
   "metadata": {},
   "outputs": [],
   "source": [
    "scaler = StandardScaler()\n",
    "X_train = scaler.fit_transform(X_train)\n",
    "X_test = scaler.transform (X_test)"
   ]
  },
  {
   "cell_type": "markdown",
   "id": "78bf0825",
   "metadata": {},
   "source": [
    "### Implementing Logistic Regression\n"
   ]
  },
  {
   "cell_type": "code",
   "execution_count": 10,
   "id": "1dfe215b",
   "metadata": {},
   "outputs": [],
   "source": [
    "log_reg = LogisticRegression()\n",
    "log_reg.fit(X_train, y_train)\n",
    "y_pred_log_reg = log_reg.predict(X_test)"
   ]
  },
  {
   "cell_type": "code",
   "execution_count": 14,
   "id": "d76df527",
   "metadata": {},
   "outputs": [
    {
     "name": "stdout",
     "output_type": "stream",
     "text": [
      "--Logistic Regression-- \n",
      "Accuracy: 93.54% \n",
      "Precision: 87.88% \n",
      "Recall: 95.39% \n",
      "F1 Score: 91.48%\n"
     ]
    }
   ],
   "source": [
    "accuracy_log_reg = accuracy_score(y_true, y_pred_log_reg)\n",
    "precision_log_reg = precision_score(y_true, y_pred_log_reg)\n",
    "recall_log_reg = recall_score(y_true, y_pred_log_reg)\n",
    "f1_log_reg = f1_score(y_true, y_pred_log_reg)\n",
    "print(f\"--Logistic Regression-- \\nAccuracy: {accuracy_log_reg*100:.2f}% \\nPrecision: {precision_log_reg*100:.2f}% \\nRecall: {recall_log_reg*100:.2f}% \\nF1 Score: {f1_log_reg*100:.2f}%\")"
   ]
  },
  {
   "cell_type": "markdown",
   "id": "f655a14d",
   "metadata": {},
   "source": [
    "### Implementing Naive Bayes\n"
   ]
  },
  {
   "cell_type": "code",
   "execution_count": 15,
   "id": "8c6479f3",
   "metadata": {},
   "outputs": [],
   "source": [
    "gnb = GaussianNB()\n",
    "gnb.fit(X_train, y_train)\n",
    "y_pred_gnb = gnb.predict(X_test)"
   ]
  },
  {
   "cell_type": "code",
   "execution_count": 69,
   "id": "9d895fdc",
   "metadata": {},
   "outputs": [
    {
     "name": "stdout",
     "output_type": "stream",
     "text": [
      "--Naive Bayes-- \n",
      "Accuracy: 92.58%\n",
      "Precision: 85.80%\n",
      "Recall: 95.39%\n",
      "F1 Score: 90.34%\n"
     ]
    }
   ],
   "source": [
    "accuracy_gnb = accuracy_score(y_true, y_pred_gnb)\n",
    "precision_gnb = precision_score(y_true, y_pred_gnb)\n",
    "recall_gnb = recall_score(y_true, y_pred_gnb)\n",
    "f1_gnb = f1_score(y_true, y_pred_gnb)\n",
    "print(f\"--Naive Bayes-- \\nAccuracy: {accuracy_gnb*100:.2f}%\\nPrecision: {precision_gnb*100:.2f}%\\nRecall: {recall_gnb*100:.2f}%\\nF1 Score: {f1_gnb*100:.2f}%\")"
   ]
  },
  {
   "cell_type": "markdown",
   "id": "ff58f3d7",
   "metadata": {},
   "source": [
    "### Implementing Support Vector Machine\n"
   ]
  },
  {
   "cell_type": "code",
   "execution_count": 17,
   "id": "6573ca4c",
   "metadata": {},
   "outputs": [],
   "source": [
    "svc = SVC()\n",
    "svc.fit(X_train, y_train)\n",
    "y_pred_svc = svc.predict(X_test)"
   ]
  },
  {
   "cell_type": "code",
   "execution_count": 20,
   "id": "d340f1ad",
   "metadata": {},
   "outputs": [
    {
     "name": "stdout",
     "output_type": "stream",
     "text": [
      "--SVM--\n",
      "Accuracy: 92.82%\n",
      "Precision: 92.36%\n",
      "Recall: 87.50%\n",
      "F1 Score: 89.86%\n"
     ]
    }
   ],
   "source": [
    "accuracy_svc = accuracy_score(y_true, y_pred_svc)\n",
    "precision_svc = precision_score(y_true, y_pred_svc)\n",
    "recall_svc = recall_score(y_true, y_pred_svc)\n",
    "f1_svc = f1_score(y_true, y_pred_svc)\n",
    "print(f\"--SVM--\\nAccuracy: {accuracy_svc*100:.2f}%\\nPrecision: {precision_svc*100:.2f}%\\nRecall: {recall_svc*100:.2f}%\\nF1 Score: {f1_svc*100:.2f}%\")"
   ]
  },
  {
   "cell_type": "markdown",
   "id": "70c6e3be",
   "metadata": {},
   "source": [
    "### Implementing K Nearest Neighbors\n"
   ]
  },
  {
   "cell_type": "code",
   "execution_count": 21,
   "id": "26eff822",
   "metadata": {},
   "outputs": [],
   "source": [
    "knn = KNeighborsClassifier()\n",
    "knn.fit(X_train, y_train)\n",
    "y_pred_knn = knn.predict(X_test)"
   ]
  },
  {
   "cell_type": "code",
   "execution_count": 22,
   "id": "63100206",
   "metadata": {},
   "outputs": [
    {
     "name": "stdout",
     "output_type": "stream",
     "text": [
      "--KNN--\n",
      "Accuracy: 85.17%\n",
      "Precision: 80.00%\n",
      "Recall: 78.95%\n",
      "F1 Score: 79.47%\n"
     ]
    }
   ],
   "source": [
    "accuracy_knn = accuracy_score(y_true, y_pred_knn)\n",
    "precision_knn = precision_score(y_true, y_pred_knn)\n",
    "recall_knn = recall_score(y_true, y_pred_knn)\n",
    "f1_knn = f1_score(y_true, y_pred_knn)\n",
    "print(f\"--KNN--\\nAccuracy: {accuracy_knn*100:.2f}%\\nPrecision: {precision_knn*100:.2f}%\\nRecall: {recall_knn*100:.2f}%\\nF1 Score: {f1_knn*100:.2f}%\")"
   ]
  },
  {
   "cell_type": "markdown",
   "id": "833b2748",
   "metadata": {},
   "source": [
    "### Implementing Decision Tree\n"
   ]
  },
  {
   "cell_type": "code",
   "execution_count": 23,
   "id": "e79141fa",
   "metadata": {},
   "outputs": [],
   "source": [
    "dt = DecisionTreeClassifier()\n",
    "dt.fit(X_train, y_train)\n",
    "y_pred_dt = dt.predict(X_test)  "
   ]
  },
  {
   "cell_type": "code",
   "execution_count": 24,
   "id": "3fd11899",
   "metadata": {},
   "outputs": [
    {
     "name": "stdout",
     "output_type": "stream",
     "text": [
      "--Decision Tree--\n",
      "Accuracy: 72.01%\n",
      "Precision: 62.24%\n",
      "Recall: 58.55%\n",
      "F1 Score: 60.34%\n"
     ]
    }
   ],
   "source": [
    "accuracy_dt = accuracy_score(y_true, y_pred_dt)\n",
    "precision_dt = precision_score(y_true, y_pred_dt)\n",
    "recall_dt = recall_score(y_true, y_pred_dt)\n",
    "f1_dt = f1_score(y_true, y_pred_dt)\n",
    "print(f\"--Decision Tree--\\nAccuracy: {accuracy_dt*100:.2f}%\\nPrecision: {precision_dt*100:.2f}%\\nRecall: {recall_dt*100:.2f}%\\nF1 Score: {f1_dt*100:.2f}%\")"
   ]
  },
  {
   "cell_type": "markdown",
   "id": "2ad2bd7b",
   "metadata": {},
   "source": [
    "### Implementing Random Forest\n"
   ]
  },
  {
   "cell_type": "code",
   "execution_count": 25,
   "id": "ef20c296",
   "metadata": {},
   "outputs": [],
   "source": [
    "rf = RandomForestClassifier()\n",
    "rf.fit(X_train, y_train)\n",
    "y_pred_rf = rf.predict(X_test)"
   ]
  },
  {
   "cell_type": "code",
   "execution_count": null,
   "id": "8bf9d8fc",
   "metadata": {},
   "outputs": [
    {
     "name": "stdout",
     "output_type": "stream",
     "text": [
      "--Random Forest--\n",
      "Accuracy: 77.99%\n",
      "Precision: 68.75%\n",
      "Recall: 72.37%\n",
      "F1 Score: 70.51%\n"
     ]
    }
   ],
   "source": [
    "accuracy_rf = accuracy_score(y_true, y_pred_rf)\n",
    "precision_rf = precision_score(y_true, y_pred_rf)\n",
    "recall_rf = recall_score(y_true, y_pred_rf)\n",
    "f1_rf = f1_score(y_true, y_pred_rf)\n",
    "print(f\"--Random Forest--\\nAccuracy: {accuracy_rf*100:.2f}%\\nPrecision: {precision_rf*100:.2f}%\\nRecall: {recall_rf*100:.2f}%\\nF1 Score: {f1_rf*100:.2f}%\")"
   ]
  },
  {
   "cell_type": "markdown",
   "id": "0918fd4a",
   "metadata": {},
   "source": [
    "### Implementing AdaBoost\n"
   ]
  },
  {
   "cell_type": "code",
   "execution_count": 28,
   "id": "74ac1605",
   "metadata": {},
   "outputs": [],
   "source": [
    "adb = AdaBoostClassifier()\n",
    "adb.fit(X_train, y_train)  \n",
    "y_pred_adb = adb.predict(X_test)"
   ]
  },
  {
   "cell_type": "code",
   "execution_count": 30,
   "id": "d8bab2f2",
   "metadata": {},
   "outputs": [
    {
     "name": "stdout",
     "output_type": "stream",
     "text": [
      "--AdaBoost--\n",
      "Accuracy: 96.17%\n",
      "Precision: 93.04%\n",
      "Recall: 96.71%\n",
      "F1 Score: 94.84%\n"
     ]
    }
   ],
   "source": [
    "accuracy_adb = accuracy_score(y_true, y_pred_adb)\n",
    "precision_adb = precision_score(y_true, y_pred_adb)\n",
    "recall_adb = recall_score(y_true, y_pred_adb)\n",
    "f1_adb = f1_score(y_true, y_pred_adb)\n",
    "print(f\"--AdaBoost--\\nAccuracy: {accuracy_adb*100:.2f}%\\nPrecision: {precision_adb*100:.2f}%\\nRecall: {recall_adb*100:.2f}%\\nF1 Score: {f1_adb*100:.2f}%\")"
   ]
  },
  {
   "cell_type": "markdown",
   "id": "75e0eb8a",
   "metadata": {},
   "source": [
    "### Model Accuracy Visualisation"
   ]
  },
  {
   "cell_type": "code",
   "execution_count": 49,
   "id": "650b9534",
   "metadata": {},
   "outputs": [],
   "source": [
    "from matplotlib import pyplot as plt"
   ]
  },
  {
   "cell_type": "code",
   "execution_count": 58,
   "id": "649221f6",
   "metadata": {},
   "outputs": [
    {
     "data": {
      "text/html": [
       "<div>\n",
       "<style scoped>\n",
       "    .dataframe tbody tr th:only-of-type {\n",
       "        vertical-align: middle;\n",
       "    }\n",
       "\n",
       "    .dataframe tbody tr th {\n",
       "        vertical-align: top;\n",
       "    }\n",
       "\n",
       "    .dataframe thead th {\n",
       "        text-align: right;\n",
       "    }\n",
       "</style>\n",
       "<table border=\"1\" class=\"dataframe\">\n",
       "  <thead>\n",
       "    <tr style=\"text-align: right;\">\n",
       "      <th></th>\n",
       "      <th>Model</th>\n",
       "      <th>Accuracy</th>\n",
       "      <th>Precision</th>\n",
       "      <th>Recall</th>\n",
       "      <th>F1 Score</th>\n",
       "    </tr>\n",
       "  </thead>\n",
       "  <tbody>\n",
       "    <tr>\n",
       "      <th>0</th>\n",
       "      <td>AdaBoost</td>\n",
       "      <td>0.961722</td>\n",
       "      <td>0.930380</td>\n",
       "      <td>0.967105</td>\n",
       "      <td>0.948387</td>\n",
       "    </tr>\n",
       "    <tr>\n",
       "      <th>1</th>\n",
       "      <td>Logistic Regression</td>\n",
       "      <td>0.935407</td>\n",
       "      <td>0.878788</td>\n",
       "      <td>0.953947</td>\n",
       "      <td>0.914826</td>\n",
       "    </tr>\n",
       "    <tr>\n",
       "      <th>2</th>\n",
       "      <td>Naive Bayes</td>\n",
       "      <td>0.925837</td>\n",
       "      <td>0.857988</td>\n",
       "      <td>0.953947</td>\n",
       "      <td>0.903427</td>\n",
       "    </tr>\n",
       "    <tr>\n",
       "      <th>3</th>\n",
       "      <td>SVM</td>\n",
       "      <td>0.928230</td>\n",
       "      <td>0.923611</td>\n",
       "      <td>0.875000</td>\n",
       "      <td>0.898649</td>\n",
       "    </tr>\n",
       "    <tr>\n",
       "      <th>4</th>\n",
       "      <td>KNN</td>\n",
       "      <td>0.851675</td>\n",
       "      <td>0.800000</td>\n",
       "      <td>0.789474</td>\n",
       "      <td>0.794702</td>\n",
       "    </tr>\n",
       "    <tr>\n",
       "      <th>5</th>\n",
       "      <td>Random Forest</td>\n",
       "      <td>0.779904</td>\n",
       "      <td>0.687500</td>\n",
       "      <td>0.723684</td>\n",
       "      <td>0.705128</td>\n",
       "    </tr>\n",
       "    <tr>\n",
       "      <th>6</th>\n",
       "      <td>Decision Tree</td>\n",
       "      <td>0.720096</td>\n",
       "      <td>0.622378</td>\n",
       "      <td>0.585526</td>\n",
       "      <td>0.603390</td>\n",
       "    </tr>\n",
       "  </tbody>\n",
       "</table>\n",
       "</div>"
      ],
      "text/plain": [
       "                 Model  Accuracy  Precision    Recall  F1 Score\n",
       "0             AdaBoost  0.961722   0.930380  0.967105  0.948387\n",
       "1  Logistic Regression  0.935407   0.878788  0.953947  0.914826\n",
       "2          Naive Bayes  0.925837   0.857988  0.953947  0.903427\n",
       "3                  SVM  0.928230   0.923611  0.875000  0.898649\n",
       "4                  KNN  0.851675   0.800000  0.789474  0.794702\n",
       "5        Random Forest  0.779904   0.687500  0.723684  0.705128\n",
       "6        Decision Tree  0.720096   0.622378  0.585526  0.603390"
      ]
     },
     "execution_count": 58,
     "metadata": {},
     "output_type": "execute_result"
    }
   ],
   "source": [
    "models = ['Logistic Regression', 'Naive Bayes', 'SVM', 'KNN', 'Decision Tree', 'Random Forest', 'AdaBoost']\n",
    "predictions = [y_pred_log_reg, y_pred_gnb, y_pred_svc, y_pred_knn, y_pred_dt, y_pred_rf, y_pred_adb]\n",
    "\n",
    "results = []\n",
    "\n",
    "for name, pred in zip(models, predictions):\n",
    "    acc = accuracy_score(y_true, pred)\n",
    "    prec = precision_score(y_true, pred)\n",
    "    rec = recall_score(y_true, pred)\n",
    "    f1 = f1_score(y_true, pred)\n",
    "    results.append([name, acc, prec, rec, f1])\n",
    "\n",
    "metrics_df = pd.DataFrame(results, columns=['Model', 'Accuracy', 'Precision', 'Recall', 'F1 Score'])\n",
    "metrics_df = metrics_df.sort_values(by='F1 Score', ascending=False).reset_index(drop=True)\n",
    "metrics_df\n"
   ]
  },
  {
   "cell_type": "code",
   "execution_count": 68,
   "id": "606f17e2",
   "metadata": {},
   "outputs": [
    {
     "data": {
      "image/png": "[encoded data removed]",
      "text/plain": [
       "<Figure size 1000x600 with 1 Axes>"
      ]
     },
     "metadata": {},
     "output_type": "display_data"
    }
   ],
   "source": [
    "metrics_df.plot(\n",
    "    x='Model', \n",
    "    y=['Accuracy', 'Precision', 'Recall', 'F1 Score'], \n",
    "    kind='bar', \n",
    "    figsize=(10,6), \n",
    "    colormap='viridis',\n",
    "    edgecolor='black'\n",
    ")\n",
    "\n",
    "plt.title(\"Comparison of Classification Models (Titanic Dataset)\", fontsize = 17, fontstyle = 'italic', weight = 'bold')\n",
    "plt.ylabel(\"Score\")\n",
    "plt.xticks(rotation=360)\n",
    "plt.grid(axis='y', linestyle='--', alpha=0.7)\n",
    "plt.legend(loc='lower right')\n",
    "plt.show()\n"
   ]
  },
  {
   "cell_type": "code",
   "execution_count": null,
   "id": "2b06846b",
   "metadata": {},
   "outputs": [],
   "source": []
  }
 ],
 "metadata": {
  "kernelspec": {
   "display_name": "tsenv",
   "language": "python",
   "name": "python3"
  },
  "language_info": {
   "codemirror_mode": {
    "name": "ipython",
    "version": 3
   },
   "file_extension": ".py",
   "mimetype": "text/x-python",
   "name": "python",
   "nbconvert_exporter": "python",
   "pygments_lexer": "ipython3",
   "version": "3.10.18"
  }
 },
 "nbformat": 4,
 "nbformat_minor": 5
}
